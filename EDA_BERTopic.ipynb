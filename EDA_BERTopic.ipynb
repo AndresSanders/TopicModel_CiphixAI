{
 "cells": [
  {
   "cell_type": "code",
   "execution_count": 4,
   "id": "f3c1da84-8a82-4048-a436-ff2fd8ecca34",
   "metadata": {},
   "outputs": [],
   "source": [
    "from bertopic import BERTopic\n",
    "import plotly.io as pio"
   ]
  },
  {
   "cell_type": "markdown",
   "id": "af213c4d-dc24-4466-9ca5-460c9683e9f2",
   "metadata": {},
   "source": [
    "### Load Model"
   ]
  },
  {
   "cell_type": "code",
   "execution_count": 5,
   "id": "79485c5e-8c23-4d6e-921b-890c1163c620",
   "metadata": {},
   "outputs": [],
   "source": [
    "topic_model = BERTopic.load(\"Data/Models/Test_bertopic&OpenAI_model\")"
   ]
  },
  {
   "cell_type": "markdown",
   "id": "84a5d729-5f60-4310-85a5-1f04b10ffda5",
   "metadata": {},
   "source": [
    "### Query the Model"
   ]
  },
  {
   "cell_type": "code",
   "execution_count": 8,
   "id": "8c114883-6cdc-41f6-9174-26937a977c1e",
   "metadata": {},
   "outputs": [
    {
     "data": {
      "text/plain": [
       "[('Android App Dealer Requirements', 1),\n",
       " ('', 0),\n",
       " ('', 0),\n",
       " ('', 0),\n",
       " ('', 0),\n",
       " ('', 0),\n",
       " ('', 0),\n",
       " ('', 0),\n",
       " ('', 0),\n",
       " ('', 0)]"
      ]
     },
     "execution_count": 8,
     "metadata": {},
     "output_type": "execute_result"
    }
   ],
   "source": [
    "similar_topics, similarity = topic_model.find_topics(\"@458741  That's definitely not the experience we want for you with your Apple Watch. Meet us in DM and we'll get to the bottom of this. https://t.co/GDrqU22YpT @AppleSupport @117735 WTF... No one can figure out why Apple Watch cellular has \"\"no sim error\"\" and won't activate. HELP!!\", top_n=5)\n",
    "topic_model.get_topic(similar_topics[0])"
   ]
  },
  {
   "cell_type": "markdown",
   "id": "09e779cc-9fc2-4cee-b0b6-86f41ba935bb",
   "metadata": {},
   "source": [
    "### Explore the Model"
   ]
  },
  {
   "cell_type": "code",
   "execution_count": 6,
   "id": "9d83d6bb-39de-4323-9105-f1acf3eb2243",
   "metadata": {},
   "outputs": [],
   "source": [
    "pio.renderers.default='iframe'"
   ]
  },
  {
   "cell_type": "code",
   "execution_count": 7,
   "id": "6c15722e-41dd-4a0b-876a-fe38a5b98cda",
   "metadata": {},
   "outputs": [
    {
     "data": {
      "text/html": [
       "<div>\n",
       "<style scoped>\n",
       "    .dataframe tbody tr th:only-of-type {\n",
       "        vertical-align: middle;\n",
       "    }\n",
       "\n",
       "    .dataframe tbody tr th {\n",
       "        vertical-align: top;\n",
       "    }\n",
       "\n",
       "    .dataframe thead th {\n",
       "        text-align: right;\n",
       "    }\n",
       "</style>\n",
       "<table border=\"1\" class=\"dataframe\">\n",
       "  <thead>\n",
       "    <tr style=\"text-align: right;\">\n",
       "      <th></th>\n",
       "      <th>Topic</th>\n",
       "      <th>Count</th>\n",
       "      <th>Name</th>\n",
       "    </tr>\n",
       "  </thead>\n",
       "  <tbody>\n",
       "    <tr>\n",
       "      <th>0</th>\n",
       "      <td>-1</td>\n",
       "      <td>177</td>\n",
       "      <td>-1_Xavier University of Louisiana___</td>\n",
       "    </tr>\n",
       "    <tr>\n",
       "      <th>1</th>\n",
       "      <td>0</td>\n",
       "      <td>104</td>\n",
       "      <td>0_bling on hold___</td>\n",
       "    </tr>\n",
       "    <tr>\n",
       "      <th>2</th>\n",
       "      <td>1</td>\n",
       "      <td>65</td>\n",
       "      <td>1_console points___</td>\n",
       "    </tr>\n",
       "    <tr>\n",
       "      <th>3</th>\n",
       "      <td>2</td>\n",
       "      <td>64</td>\n",
       "      <td>2_eBuyer issues___</td>\n",
       "    </tr>\n",
       "    <tr>\n",
       "      <th>4</th>\n",
       "      <td>3</td>\n",
       "      <td>62</td>\n",
       "      <td>3_Email and social media___</td>\n",
       "    </tr>\n",
       "    <tr>\n",
       "      <th>5</th>\n",
       "      <td>4</td>\n",
       "      <td>57</td>\n",
       "      <td>4_Queuing for Xmas___</td>\n",
       "    </tr>\n",
       "    <tr>\n",
       "      <th>6</th>\n",
       "      <td>5</td>\n",
       "      <td>55</td>\n",
       "      <td>5_stretched resources___</td>\n",
       "    </tr>\n",
       "    <tr>\n",
       "      <th>7</th>\n",
       "      <td>6</td>\n",
       "      <td>53</td>\n",
       "      <td>6_Dublin marketing campaign___</td>\n",
       "    </tr>\n",
       "    <tr>\n",
       "      <th>8</th>\n",
       "      <td>7</td>\n",
       "      <td>43</td>\n",
       "      <td>7_Electricity___</td>\n",
       "    </tr>\n",
       "    <tr>\n",
       "      <th>9</th>\n",
       "      <td>8</td>\n",
       "      <td>40</td>\n",
       "      <td>8_No thanks___</td>\n",
       "    </tr>\n",
       "    <tr>\n",
       "      <th>10</th>\n",
       "      <td>9</td>\n",
       "      <td>36</td>\n",
       "      <td>9_Technical issues with eating meat___</td>\n",
       "    </tr>\n",
       "    <tr>\n",
       "      <th>11</th>\n",
       "      <td>10</td>\n",
       "      <td>35</td>\n",
       "      <td>10_Music refunds and customer service___</td>\n",
       "    </tr>\n",
       "    <tr>\n",
       "      <th>12</th>\n",
       "      <td>11</td>\n",
       "      <td>34</td>\n",
       "      <td>11_freeflyingsupport___</td>\n",
       "    </tr>\n",
       "    <tr>\n",
       "      <th>13</th>\n",
       "      <td>12</td>\n",
       "      <td>25</td>\n",
       "      <td>12_More engineeringrupal node_exceptions___</td>\n",
       "    </tr>\n",
       "    <tr>\n",
       "      <th>14</th>\n",
       "      <td>13</td>\n",
       "      <td>23</td>\n",
       "      <td>13_eastwatermeets___</td>\n",
       "    </tr>\n",
       "    <tr>\n",
       "      <th>15</th>\n",
       "      <td>14</td>\n",
       "      <td>22</td>\n",
       "      <td>14_connectivity and service interactions___</td>\n",
       "    </tr>\n",
       "    <tr>\n",
       "      <th>16</th>\n",
       "      <td>15</td>\n",
       "      <td>19</td>\n",
       "      <td>15_Service interrupted encounters___</td>\n",
       "    </tr>\n",
       "    <tr>\n",
       "      <th>17</th>\n",
       "      <td>16</td>\n",
       "      <td>19</td>\n",
       "      <td>16_Exchanges and negotiations___</td>\n",
       "    </tr>\n",
       "    <tr>\n",
       "      <th>18</th>\n",
       "      <td>17</td>\n",
       "      <td>16</td>\n",
       "      <td>17_Train services___</td>\n",
       "    </tr>\n",
       "    <tr>\n",
       "      <th>19</th>\n",
       "      <td>18</td>\n",
       "      <td>15</td>\n",
       "      <td>18_TV shows and movies that are not included i...</td>\n",
       "    </tr>\n",
       "    <tr>\n",
       "      <th>20</th>\n",
       "      <td>19</td>\n",
       "      <td>11</td>\n",
       "      <td>19_Android App Dealer Requirements___</td>\n",
       "    </tr>\n",
       "  </tbody>\n",
       "</table>\n",
       "</div>"
      ],
      "text/plain": [
       "    Topic  Count                                               Name\n",
       "0      -1    177               -1_Xavier University of Louisiana___\n",
       "1       0    104                                 0_bling on hold___\n",
       "2       1     65                                1_console points___\n",
       "3       2     64                                 2_eBuyer issues___\n",
       "4       3     62                        3_Email and social media___\n",
       "5       4     57                              4_Queuing for Xmas___\n",
       "6       5     55                           5_stretched resources___\n",
       "7       6     53                     6_Dublin marketing campaign___\n",
       "8       7     43                                   7_Electricity___\n",
       "9       8     40                                     8_No thanks___\n",
       "10      9     36             9_Technical issues with eating meat___\n",
       "11     10     35           10_Music refunds and customer service___\n",
       "12     11     34                            11_freeflyingsupport___\n",
       "13     12     25        12_More engineeringrupal node_exceptions___\n",
       "14     13     23                               13_eastwatermeets___\n",
       "15     14     22        14_connectivity and service interactions___\n",
       "16     15     19               15_Service interrupted encounters___\n",
       "17     16     19                   16_Exchanges and negotiations___\n",
       "18     17     16                               17_Train services___\n",
       "19     18     15  18_TV shows and movies that are not included i...\n",
       "20     19     11              19_Android App Dealer Requirements___"
      ]
     },
     "execution_count": 7,
     "metadata": {},
     "output_type": "execute_result"
    }
   ],
   "source": [
    "topic_model.get_topic_info()"
   ]
  },
  {
   "cell_type": "code",
   "execution_count": 9,
   "id": "afb8749e-9761-4c87-b109-559e04ec8144",
   "metadata": {},
   "outputs": [
    {
     "data": {
      "text/html": [
       "<iframe\n",
       "    scrolling=\"no\"\n",
       "    width=\"670px\"\n",
       "    height=\"670\"\n",
       "    src=\"iframe_figures/figure_9.html\"\n",
       "    frameborder=\"0\"\n",
       "    allowfullscreen\n",
       "></iframe>\n"
      ]
     },
     "metadata": {},
     "output_type": "display_data"
    }
   ],
   "source": [
    "topic_model.visualize_topics()"
   ]
  },
  {
   "cell_type": "code",
   "execution_count": 10,
   "id": "2cddfa1f-d21a-40e6-9b39-54ff943a266f",
   "metadata": {},
   "outputs": [
    {
     "data": {
      "text/html": [
       "<iframe\n",
       "    scrolling=\"no\"\n",
       "    width=\"1020px\"\n",
       "    height=\"520\"\n",
       "    src=\"iframe_figures/figure_10.html\"\n",
       "    frameborder=\"0\"\n",
       "    allowfullscreen\n",
       "></iframe>\n"
      ]
     },
     "metadata": {},
     "output_type": "display_data"
    }
   ],
   "source": [
    "topic_model.visualize_barchart()"
   ]
  },
  {
   "cell_type": "code",
   "execution_count": null,
   "id": "63f0d151-dbd1-4728-bff0-7e7675cf134e",
   "metadata": {},
   "outputs": [],
   "source": []
  }
 ],
 "metadata": {
  "kernelspec": {
   "display_name": "Python 3",
   "language": "python",
   "name": "python3"
  },
  "language_info": {
   "codemirror_mode": {
    "name": "ipython",
    "version": 3
   },
   "file_extension": ".py",
   "mimetype": "text/x-python",
   "name": "python",
   "nbconvert_exporter": "python",
   "pygments_lexer": "ipython3",
   "version": "3.9.16"
  }
 },
 "nbformat": 4,
 "nbformat_minor": 5
}
